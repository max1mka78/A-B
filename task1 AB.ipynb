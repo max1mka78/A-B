 "cells": [
  {
   "cell_type": "code",
   "execution_count": 32,
   "id": "6815736b-34a2-4e40-b046-ededc7f9ccd9",
   "metadata": {},
   "outputs": [],
   "source": [
    "import pandas as pd\n",
    "import pandahouse as ph\n",
    "import numpy as np\n",
    "import seaborn as sns\n",
    "import matplotlib.pyplot as plt\n",
    "import hashlib\n",
    "import swifter\n",
    "from scipy import stats\n",
    "%matplotlib inline"
   ]
  },
  {
   "cell_type": "code",
   "execution_count": 37,
   "id": "af92e611-d3a2-4aec-9f90-96fa4259c991",
   "metadata": {},
   "outputs": [
    {
     "name": "stdout",
     "output_type": "stream",
     "text": [
      "Количество пользователей в группах:\n",
      "exp_group\n",
      "3    8425\n",
      "2    8362\n",
      "Name: count, dtype: int64\n"
     ]
    },
    {
     "data": {
      "image/png": "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\n",
      "text/plain": [
       "<Figure size 864x432 with 1 Axes>"
      ]
     },
     "metadata": {
      "needs_background": "light"
     },
     "output_type": "display_data"
    },
    {
     "name": "stdout",
     "output_type": "stream",
     "text": [
      "Доля p-value < 0.05: 0.0487 или 4.87%\n"
     ]
    }
   ],
   "source": [
    "# Подключение к ClickHouse (убедитесь, что ph (pandahouse) уже импортирован)\n",
    "connection = {\n",
    "    'host': 'https://clickhouse.lab.karpov.courses',\n",
    "    'password': 'dpo_python_2020',\n",
    "    'user': 'student',\n",
    "    'database': 'simulator_20250520'\n",
    "}\n",
    "\n",
    "# Запрос для получения данных по пользователям из групп 2 и 3\n",
    "q = \"\"\"\n",
    "SELECT \n",
    "    user_id,\n",
    "    exp_group,\n",
    "    sum(action = 'like') as likes,\n",
    "    sum(action = 'view') as views,\n",
    "    likes/views as ctr\n",
    "FROM {db}.feed_actions \n",
    "WHERE toDate(time) BETWEEN '2025-04-25' AND '2025-05-01'\n",
    "  AND exp_group IN (2, 3)\n",
    "GROUP BY user_id, exp_group\n",
    "\"\"\"\n",
    "\n",
    "# Получаем данные\n",
    "df = ph.read_clickhouse(q, connection=connection)\n",
    "\n",
    "# Проверяем количество пользователей в группах\n",
    "print(\"Количество пользователей в группах:\")\n",
    "print(df['exp_group'].value_counts())\n",
    "\n",
    "# Проверяем, что в группах достаточно пользователей\n",
    "assert len(df[df['exp_group'] == 2]) >= 500, \"В группе 2 меньше 500 пользователей\"\n",
    "assert len(df[df['exp_group'] == 3]) >= 500, \"В группе 3 меньше 500 пользователей\"\n",
    "\n",
    "# Функция для проведения одной итерации теста\n",
    "def run_aa_test():\n",
    "    # Берем подвыборки по 500 пользователей без возвращения\n",
    "    sample_2 = df[df['exp_group'] == 2].sample(n=500, replace=False)\n",
    "    sample_3 = df[df['exp_group'] == 3].sample(n=500, replace=False)\n",
    "    \n",
    "    # Проводим t-тест\n",
    "    t_stat, p_value = stats.ttest_ind(sample_2['ctr'], sample_3['ctr'], equal_var=False)\n",
    "    return p_value\n",
    "\n",
    "# Проводим 10000 итераций\n",
    "p_values = []\n",
    "for _ in range(10000):\n",
    "    p_values.append(run_aa_test())\n",
    "\n",
    "# Конвертируем в numpy array для удобства\n",
    "p_values = np.array(p_values)\n",
    "\n",
    "# Визуализация результатов\n",
    "plt.figure(figsize=(12, 6))\n",
    "sns.histplot(p_values, bins=30, kde=False)\n",
    "plt.title('Распределение p-values в АА-тесте (10000 итераций)')\n",
    "plt.xlabel('p-value')\n",
    "plt.ylabel('Частота')\n",
    "plt.axvline(0.05, color='red', linestyle='--', label='Уровень значимости 0.05')\n",
    "plt.legend()\n",
    "plt.show()\n",
    "\n",
    "# Считаем долю p-value < 0.05\n",
    "significant = (p_values < 0.05).mean()\n",
    "print(f\"Доля p-value < 0.05: {significant:.4f} или {significant*100:.2f}%\")"
   ]
  },
  {
   "cell_type": "code",
   "execution_count": null,
   "id": "155a343b-1b38-4873-b7ba-f7c1c37bbf66",
   "metadata": {},
   "outputs": [],
   "source": []
  }
 ],
 "metadata": {
  "kernelspec": {
   "display_name": "Python 3 (ipykernel)",
   "language": "python",
   "name": "python3"
  },
  "language_info": {
   "codemirror_mode": {
    "name": "ipython",
    "version": 3
   },
   "file_extension": ".py",
   "mimetype": "text/x-python",
   "name": "python",
   "nbconvert_exporter": "python",
   "pygments_lexer": "ipython3",
   "version": "3.8.10"
  }
 },
 "nbformat": 4,
 "nbformat_minor": 5
}
