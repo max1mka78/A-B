{
 "cells": [
  {
   "cell_type": "markdown",
   "metadata": {},
   "source": [
    "### 🧂 Почему «солёное» хэширование так хорошо?\n",
    "\n",
    "\"Солёное\" хэширование — это ключевой инструмент при построении надёжной системы сплитования. Основные его преимущества:\n",
    "- **Детерминированность:** один и тот же `user_id` всегда попадает в одну и ту же группу.\n",
    "- **Случайность:** группы формируются случайным образом.\n",
    "- **Равномерность:** группы примерно одинакового размера.\n",
    "\n",
    "Это идеальное сочетание свойств для проведения A/B-тестов."
   ]
  },
  {
   "cell_type": "markdown",
   "metadata": {},
   "source": [
    "#### 🔍 Пример реализации"
   ]
  },
  {
   "cell_type": "markdown",
   "metadata": {},
   "source": [
    "#### 1. Подключение к ClickHouse и получение списка пользователей"
   ]
  },
  {
   "cell_type": "code",
   "execution_count": null,
   "metadata": {},
   "outputs": [],
   "source": [
    "import pandahouse as ph\n",
    "import swifter"
   ]
  },
  {
   "cell_type": "code",
   "execution_count": null,
   "metadata": {},
   "outputs": [],
   "source": [
    "# Параметры подключения\n",
    "connection = {\n",
    "    'host': 'https://clickhouse.lab.karpov.courses ',\n",
    "    'password': 'dpo_python_2020',\n",
    "    'user': 'student',\n",
    "    'database': 'simulator'\n",
    "}"
   ]
  },
  {
   "cell_type": "code",
   "execution_count": null,
   "metadata": {},
   "outputs": [],
   "source": [
    "# SQL-запрос: выбираем уникальных пользователей за неделю\n",
    "query_users = \"\"\"\n",
    "SELECT DISTINCT user_id\n",
    "FROM simulator.feed_actions \n",
    "WHERE toDate(time) >= '2021-11-15' AND toDate(time) <= '2021-11-21'\n",
    "\"\"\"\n",
    "\n",
    "# Загружаем пользователей\n",
    "users_df = ph.read_clickhouse(query_users, connection=connection)\n",
    "users_df.head()"
   ]
  },
  {
   "cell_type": "markdown",
   "metadata": {},
   "source": [
    "#### 2. Разбиение на группы с помощью функции `ab_split`"
   ]
  },
  {
   "cell_type": "code",
   "execution_count": null,
   "metadata": {},
   "outputs": [],
   "source": [
    "def ab_split(user_id, salt='my_salt', n_groups=5):\n",
    "    import mmh3\n",
    "    return mmh3.hash(f\"{user_id}{salt}\") % n_groups"
   ]
  },
  {
   "cell_type": "code",
   "execution_count": null,
   "metadata": {},
   "outputs": [],
   "source": [
    "# Применяем функцию к user_id\n",
    "users_df['hash_group'] = users_df['user_id'].swifter.apply(ab_split)\n",
    "\n",
    "# Считаем количество пользователей в каждой группе\n",
    "group_distribution = users_df.groupby('hash_group')['user_id'].nunique().reset_index()\n",
    "group_distribution.columns = ['hash_group', 'user_count']\n",
    "\n",
    "group_distribution"
   ]
  },
  {
   "cell_type": "markdown",
   "metadata": {},
   "source": [
    "#### 3. Альтернатива: разбиение прямо в ClickHouse"
   ]
  },
  {
   "cell_type": "code",
   "execution_count": null,
   "metadata": {},
   "outputs": [],
   "source": [
    "# SQL-запрос с хэшированием внутри ClickHouse\n",
    "query_split = \"\"\"\n",
    "SELECT \n",
    "    xxHash64(toString(user_id) || 'my_salt') % 5 AS hash_group,\n",
    "    uniqExact(user_id) AS user_count\n",
    "FROM simulator.feed_actions \n",
    "WHERE toDate(time) >= '2021-11-15' AND toDate(time) <= '2021-11-21'\n",
    "GROUP BY hash_group\n",
    "ORDER BY hash_group\n",
    "\"\"\"\n",
    "\n",
    "# Выполняем запрос\n",
    "split_result = ph.read_clickhouse(query_split, connection=connection)\n",
    "split_result"
   ]
  },
  {
   "cell_type": "markdown",
   "metadata": {},
   "source": [
    "### ✅ Вывод\n",
    "\n",
    "\"Солёное\" хэширование:\n",
    "- Гарантирует **равномерное распределение** пользователей по группам.\n",
    "- Обеспечивает **воспроизводимость** результатов.\n",
    "- Позволяет избежать пересечения экспериментов.\n",
    "\n",
    "Использовать его можно как в Python (через библиотеки вроде `mmh3`), так и непосредственно в ClickHouse — в зависимости от ваших задач и предпочтений.\n",
    "\n",
    "📌 *Совет: используй разные соли для разных экспериментов, чтобы гарантировать их независимость.*"
   ]
  }
 ],
 "metadata": {
  "kernelspec": {
   "display_name": "Python 3",
   "language": "python",
   "name": "python3"
  },
  "language_info": {
   "codemirror_mode": {
    "name": "ipython",
    "version": 3
   },
   "file_extension": ".py",
   "mimetype": "text/x-python",
   "name": "python",
   "nbconvert_exporter": "python",
   "pygments_lexer": "ipython3",
   "version": "3.8"
  }
 },
 "nbformat": 4,
 "nbformat_minor": 5
}
