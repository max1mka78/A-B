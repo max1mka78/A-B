{
 "cells": [
  {
   "cell_type": "code",
   "execution_count": 7,
   "id": "93dd824b-ef80-4abf-830b-517010166187",
   "metadata": {},
   "outputs": [],
   "source": [
    "import pandas as pd\n",
    "import pandahouse as ph\n",
    "import numpy as np\n",
    "import seaborn as sns\n",
    "import matplotlib.pyplot as plt\n",
    "import hashlib\n",
    "import swifter\n",
    "from scipy import stats\n",
    "%matplotlib inline"
   ]
  },
  {
   "cell_type": "markdown",
   "id": "a532c038-a9b6-47e6-9387-d432e17eb8a7",
   "metadata": {},
   "source": [
    "# Анализ результатов A/B-теста\n",
    "\n",
    "## Контекст эксперимента\n",
    "\n",
    "С **2 по 8 мая 2025 года** проводился A/B-тест, организованный совместно с командой дата сайентистов.  \n",
    "В тесте участвовали две группы:\n",
    "\n",
    "| Группа | Описание |\n",
    "|--------|----------|\n",
    "| **Группа 1 (control)** | Стандартная версия рекомендаций |\n",
    "| **Группа 2 (treatment)** | Новый алгоритм рекомендаций |\n",
    "\n",
    "**Цель теста:** проверить гипотезу о том, что новый алгоритм повысит **CTR** (Click-through Rate), то есть долю лайков к просмотрам.\n",
    "\n",
    "---\n",
    "\n",
    "## Ваша задача\n",
    "\n",
    "Проанализируем данные A/B-теста и ответим на ключевые вопросы:\n",
    "\n",
    "### 1. Сравнение CTR между группами\n",
    "\n",
    "Используем следующие методы:\n",
    "- `t-тест`\n",
    "- `Тест Манна-Уитни`\n",
    "- `Пуассоновский бутстреп`\n",
    "- `t-тест на сглаженном CTR (α=5)`\n",
    "- `t-тест и тест Манна-Уитни поверх бакетного преобразования`\n",
    "\n",
    "### 2. Исследование распределений\n",
    "\n",
    "- Построим графики: гистограммы, boxplot, KDE.\n",
    "- Оценим наличие выбросов, асимметрии и других особенностей распределения CTR в обеих группах.\n",
    "\n",
    "### 3. Объяснение результатов\n",
    "\n",
    "- Почему одни тесты показывают значимость, а другие — нет?\n",
    "- Как могло повлиять наличие выбросов или нестандартное распределение?\n",
    "- Что может объяснять различия (или их отсутствие) между группами?\n",
    "\n",
    "---"
   ]
  },
  {
   "cell_type": "code",
   "execution_count": 8,
   "id": "a0712ca1-d34a-443d-b689-ffc6ca6ac456",
   "metadata": {},
   "outputs": [],
   "source": [
    "# 2025-05-02 по 2025-05-08\n",
    "# группы 1 и 2"
   ]
  },
  {
   "cell_type": "code",
   "execution_count": 8,
   "id": "e29fbee6-9513-400a-b2e6-f432a3388f95",
   "metadata": {},
   "outputs": [],
   "source": [
    "#Подключаемся с clickhouse\n",
    "connection = {\n",
    "    'host': 'https://clickhouse.lab.karpov.courses',\n",
    "    'password': 'dpo_python_2020',\n",
    "    'user': 'student',\n",
    "    'database': 'simulator_20250520'\n",
    "}\n",
    "\n",
    "q = \"\"\"\n",
    "SELECT \n",
    "    user_id,\n",
    "    exp_group,\n",
    "    sum(action = 'like') as likes,\n",
    "    sum(action = 'view') as views,\n",
    "    likes/views as ctr\n",
    "FROM {db}.feed_actions \n",
    "WHERE toDate(time) BETWEEN '2025-05-02' AND '2025-05-08'\n",
    "  AND exp_group IN (1, 2)\n",
    "GROUP BY user_id, exp_group\n",
    "\"\"\"\n",
    "\n",
    "# Получаем данные\n",
    "df = ph.read_clickhouse(q, connection=connection)"
   ]
  },
  {
   "cell_type": "code",
   "execution_count": 9,
   "id": "c615ba8e-bff9-4344-81ad-322607973e1d",
   "metadata": {},
   "outputs": [
    {
     "data": {
      "text/html": [
       "<div>\n",
       "<style scoped>\n",
       "    .dataframe tbody tr th:only-of-type {\n",
       "        vertical-align: middle;\n",
       "    }\n",
       "\n",
       "    .dataframe tbody tr th {\n",
       "        vertical-align: top;\n",
       "    }\n",
       "\n",
       "    .dataframe thead th {\n",
       "        text-align: right;\n",
       "    }\n",
       "</style>\n",
       "<table border=\"1\" class=\"dataframe\">\n",
       "  <thead>\n",
       "    <tr style=\"text-align: right;\">\n",
       "      <th></th>\n",
       "      <th>user_id</th>\n",
       "      <th>likes</th>\n",
       "      <th>views</th>\n",
       "      <th>ctr</th>\n",
       "    </tr>\n",
       "    <tr>\n",
       "      <th>exp_group</th>\n",
       "      <th></th>\n",
       "      <th></th>\n",
       "      <th></th>\n",
       "      <th></th>\n",
       "    </tr>\n",
       "  </thead>\n",
       "  <tbody>\n",
       "    <tr>\n",
       "      <th>1</th>\n",
       "      <td>10020</td>\n",
       "      <td>10020</td>\n",
       "      <td>10020</td>\n",
       "      <td>10020</td>\n",
       "    </tr>\n",
       "    <tr>\n",
       "      <th>2</th>\n",
       "      <td>9877</td>\n",
       "      <td>9877</td>\n",
       "      <td>9877</td>\n",
       "      <td>9877</td>\n",
       "    </tr>\n",
       "  </tbody>\n",
       "</table>\n",
       "</div>"
      ],
      "text/plain": [
       "           user_id  likes  views    ctr\n",
       "exp_group                              \n",
       "1            10020  10020  10020  10020\n",
       "2             9877   9877   9877   9877"
      ]
     },
     "execution_count": 9,
     "metadata": {},
     "output_type": "execute_result"
    }
   ],
   "source": [
    "df.groupby('exp_group').count()"
   ]
  },
  {
   "cell_type": "code",
   "execution_count": 55,
   "id": "8b565ecb-1285-45ea-a140-ca2ed6c7a5bb",
   "metadata": {},
   "outputs": [
    {
     "data": {
      "text/plain": [
       "Ttest_indResult(statistic=0.4051491913112757, pvalue=0.685373331140751)"
      ]
     },
     "execution_count": 55,
     "metadata": {},
     "output_type": "execute_result"
    }
   ],
   "source": [
    "stats.ttest_ind(df[df.exp_group == 1].ctr,\n",
    "                df[df.exp_group == 2].ctr,\n",
    "                equal_var=False)"
   ]
  },
  {
   "cell_type": "markdown",
   "id": "c9e0bfed-daa7-4b1d-83d7-bffb8b98bdfa",
   "metadata": {},
   "source": [
    "0.405 означает, что среднее первой группы чуть выше среднего второй группы\n",
    "pvalue указывает на то что в выборках нет сильного различия"
   ]
  },
  {
   "cell_type": "code",
   "execution_count": 56,
   "id": "c7a3cf98-656d-44fa-abb6-8e45e7df48e0",
   "metadata": {
    "tags": []
   },
   "outputs": [
    {
     "data": {
      "text/plain": [
       "MannwhitneyuResult(statistic=55189913.0, pvalue=4.632205841806026e-45)"
      ]
     },
     "execution_count": 56,
     "metadata": {},
     "output_type": "execute_result"
    }
   ],
   "source": [
    "stats.mannwhitneyu(df[df.exp_group == 1].ctr, \n",
    "                   df[df.exp_group == 2].ctr,\n",
    "                   alternative = 'two-sided')"
   ]
  },
  {
   "cell_type": "markdown",
   "id": "35c248b8-3d4b-4c52-910f-0d39337c440d",
   "metadata": {},
   "source": [
    "pvalue очень маленькое. Это указывает на значимые различия в группах.\n",
    "Т.е Т-тест отличий не выявил, а Манна-Уитни прокрасился."
   ]
  },
  {
   "cell_type": "code",
   "execution_count": 16,
   "id": "86d9109d-d820-4b8f-906a-0ce8dbc5c944",
   "metadata": {},
   "outputs": [
    {
     "data": {
      "image/png": "[encoded data removed]",
      "text/plain": [
       "<Figure size 432x288 with 1 Axes>"
      ]
     },
     "metadata": {
      "needs_background": "light"
     },
     "output_type": "display_data"
    }
   ],
   "source": [
    "groups = sns.histplot(data = df, \n",
    "              x='ctr', \n",
    "              hue='exp_group', \n",
    "              palette = ['r', 'b'],\n",
    "              alpha=0.5,\n",
    "              kde=False)"
   ]
  },
  {
   "cell_type": "markdown",
   "id": "cb755f3d-9459-40d1-a370-ee8d717515ae",
   "metadata": {},
   "source": [
    "Визуально можно заметить, что группа 2 имеет больше вариации в CTR, особенно на высоких значениях. Это может указывать на то, что новый алгоритм рекомендаций (используемый в группе 2) приводит к большим различиям в поведении пользователей:\n",
    "Некоторые пользователи получают значительно лучший CTR.\n",
    "Другие пользователи могут иметь даже худшие результаты."
   ]
  },
  {
   "cell_type": "markdown",
   "id": "4d89e6c3-b29c-4c75-b34a-7877e71dadb1",
   "metadata": {},
   "source": [
    "## Почему стоит использовать сглаженный CTR\n",
    "\n",
    "Одна из ключевых проблем при использовании классического CTR на уровне пользователя — это **высокая шумность метрики у пользователей с малым количеством просмотров**.\n",
    "\n",
    "Например:\n",
    "- У пользователя 3 просмотра и 1 лайк → CTR = 33%\n",
    "- Но мы не можем быть уверены, что такой CTR репрезентативен для поведения этого пользователя в будущем.\n",
    "- В то же время у пользователя с 200 просмотрами и 40 лайками (CTR = 20%) мы можем быть гораздо более уверенными в точности оценки.\n",
    "\n",
    "### Идея сглаженного CTR\n",
    "\n",
    "Для решения этой проблемы используется метод **сглаживания Лапласа**:\n",
    "\n",
    "$$\n",
    "\\text{smoothed\\_CTR}_u = \\frac{\\text{clicks}_u + \\alpha \\cdot \\text{global\\_CTR}}{\\text{views}_u + \\alpha}\n",
    "$$\n",
    "\n",
    "Где:\n",
    "- $ \\text{clicks}_u $ — количество лайков пользователя за период\n",
    "- $ \\text{views}_u $ — количество просмотров пользователя за период\n",
    "- $ \\text{global\\_CTR} $ — общий CTR по группе (или всему трафику)\n",
    "- $ \\alpha $ — гиперпараметр, регулирующий силу сглаживания\n",
    "\n",
    "---\n",
    "\n",
    "### Как работает сглаживание?\n",
    "\n",
    "Смысл сглаженного CTR в том, чтобы \"подтянуть\" значения CTR пользователей с малым числом просмотров к общегрупповому среднему:\n",
    "\n",
    "| Количество просмотров | Поведение CTR |\n",
    "|-----------------------|----------------|\n",
    "| Мало (например, < 10) | Значение CTR близко к global_CTR |\n",
    "| Средне (например, ~20) | Компромисс между индивидуальным и общим CTR |\n",
    "| Много (например, > 100) | Значение CTR почти равно реальному кликам / просмотрам |\n",
    "\n",
    "Это позволяет:\n",
    "- Уменьшить влияние случайных выбросов от пользователей с низкой активностью.\n",
    "- Получить более устойчивую метрику для анализа A/B-тестов.\n",
    "\n",
    "---\n",
    "\n",
    "### Преимущества и ограничения\n",
    "\n",
    "#### Преимущества:\n",
    "- Уменьшение влияния шума от пользователей с малой активностью.\n",
    "- Более устойчивые результаты тестов.\n",
    "- Возможность сравнения пользователей с разным уровнем активности.\n",
    "\n",
    "#### Ограничения:\n",
    "- Нет строгих теоретических гарантий, что сглаженный CTR будет коррелировать с **реальным поведением** пользователей.\n",
    "- Выбор значения $ \\alpha $ может влиять на результаты тестирования.\n",
    "- Не все команды принимают этот подход из-за его эвристической природы.\n",
    "\n",
    "---\n",
    "\n",
    "### Пример интерпретации\n",
    "\n",
    "> Представьте, что вы хотите понять, насколько пользователь действительно предпочитает лайкать посты.  \n",
    "> У одного пользователя всего 3 просмотра и 1 лайк → CTR = 33%, но это слишком нестабильно.  \n",
    "> У другого пользователя 200 просмотров и 40 лайков → CTR = 20%, и мы можем быть уверены в этом значении.  \n",
    "\n",
    "Сглаженный CTR помогает нам:\n",
    "- **Не перегружаться** на шумные данные от малоактивных пользователей.\n",
    "- **Учитывать** глобальную картину при анализе новых или малоданных пользователей.\n",
    "\n",
    "---\n",
    "\n",
    "### Настройка α\n",
    "\n",
    "Выбор параметра $ \\alpha $ зависит от данных и продукта. Например:\n",
    "- Если $ \\alpha = 5 $, это значит, что мы добавляем \"фиктивные\" клики и просмотры, эквивалентные 5 просмотрам со средним CTR.\n",
    "\n",
    "Ты можешь подбирать $ \\alpha $ через:\n",
    "- Графики плотности и распределений\n",
    "- Сравнение до и после сглаживания\n",
    "- Анализ чувствительности теста\n",
    "\n",
    "---\n",
    "\n",
    "### Заключение\n",
    "\n",
    "Сглаженный CTR — полезный инструмент в анализе A/B-тестов, особенно когда много пользователей имеет мало взаимодействий с продуктом.\n",
    "\n",
    "Хотя у него нет строгой математической гарантии, на практике он:\n",
    "- Снижает дисперсию\n",
    "- Улучшает работу статистических тестов (t-тест, например)\n",
    "- Позволяет сравнивать пользователей с разной степенью активности\n",
    "\n",
    "Если вы работаете с метриками, чувствительными к шуму — попробуйте сглаженный CTR. Он может помочь получить более точные и устойчивые выводы."
   ]
  },
  {
   "cell_type": "code",
   "execution_count": 62,
   "id": "7bf95256-20f2-40d7-9525-f51c58cf2575",
   "metadata": {},
   "outputs": [],
   "source": [
    "def get_smothed_ctr(user_likes, user_views, global_ctr, alpha):\n",
    "    smothed_ctr = (user_likes + alpha * global_ctr) / (user_views + alpha)\n",
    "    return smothed_ctr"
   ]
  },
  {
   "cell_type": "code",
   "execution_count": 63,
   "id": "450c41c1-ad97-4763-be56-58fff2c281e0",
   "metadata": {},
   "outputs": [],
   "source": [
    "global_ctr_1 = df[df.exp_group == 1].likes.sum()/df[df.exp_group == 1].views.sum()\n",
    "global_ctr_2 = df[df.exp_group == 2].likes.sum()/df[df.exp_group == 2].views.sum()"
   ]
  },
  {
   "cell_type": "code",
   "execution_count": 64,
   "id": "f1eff9a7-fbdd-4e2f-bc49-c042f65b158a",
   "metadata": {},
   "outputs": [
    {
     "data": {
      "text/plain": [
       "(0.2096041628394293, 0.20025051027061783)"
      ]
     },
     "execution_count": 64,
     "metadata": {},
     "output_type": "execute_result"
    }
   ],
   "source": [
    "global_ctr_1, global_ctr_2"
   ]
  },
  {
   "cell_type": "code",
   "execution_count": null,
   "id": "138a3739-f148-457d-8ba1-3d0e1208110c",
   "metadata": {},
   "outputs": [],
   "source": [
    "#глобальный стр в первой (контрольной) группе больше."
   ]
  },
  {
   "cell_type": "code",
   "execution_count": 65,
   "id": "cc122528-1def-4cca-abd5-571e1a9f769e",
   "metadata": {
    "tags": []
   },
   "outputs": [
    {
     "data": {
      "text/plain": [
       "<Axes: xlabel='ctr', ylabel='Count'>"
      ]
     },
     "execution_count": 65,
     "metadata": {},
     "output_type": "execute_result"
    },
    {
     "data": {
      "image/png": "[encoded data removed]",
      "text/plain": [
       "<Figure size 432x288 with 1 Axes>"
      ]
     },
     "metadata": {
      "needs_background": "light"
     },
     "output_type": "display_data"
    }
   ],
   "source": [
    "group1 = df[df.exp_group == 1].copy()\n",
    "sns.histplot(group1.ctr, \n",
    "             kde = False)"
   ]
  },
  {
   "cell_type": "code",
   "execution_count": 66,
   "id": "404e11a3-99d2-4ed7-9dbb-9b4d7c8d266e",
   "metadata": {},
   "outputs": [
    {
     "data": {
      "text/plain": [
       "<Axes: xlabel='ctr', ylabel='Count'>"
      ]
     },
     "execution_count": 66,
     "metadata": {},
     "output_type": "execute_result"
    },
    {
     "data": {
      "image/png": "[encoded data removed]",
      "text/plain": [
       "<Figure size 432x288 with 1 Axes>"
      ]
     },
     "metadata": {
      "needs_background": "light"
     },
     "output_type": "display_data"
    }
   ],
   "source": [
    "group2 = df[df.exp_group == 2].copy()\n",
    "sns.histplot(group1.ctr, \n",
    "             kde = False)"
   ]
  },
  {
   "cell_type": "code",
   "execution_count": 59,
   "id": "3956191d-efb1-4e99-a11e-69c6d2124bd7",
   "metadata": {},
   "outputs": [],
   "source": [
    "#такое чувство что они вообще абсолютно одинаковы"
   ]
  },
  {
   "cell_type": "code",
   "execution_count": 67,
   "id": "eb94a701-954b-49dc-9257-46acd39870b8",
   "metadata": {
    "tags": []
   },
   "outputs": [
    {
     "data": {
      "text/plain": [
       "<Axes: xlabel='smothed_ctr', ylabel='Count'>"
      ]
     },
     "execution_count": 67,
     "metadata": {},
     "output_type": "execute_result"
    },
    {
     "data": {
      "image/png": "[encoded data removed]",
      "text/plain": [
       "<Figure size 432x288 with 1 Axes>"
      ]
     },
     "metadata": {
      "needs_background": "light"
     },
     "output_type": "display_data"
    }
   ],
   "source": [
    "group1['smothed_ctr'] = df.apply(\n",
    "    lambda x: get_smothed_ctr(x['likes'], x['views'], global_ctr_1, 5), axis=1)\n",
    "\n",
    "sns.histplot(group1.smothed_ctr, \n",
    "             kde = False)"
   ]
  },
  {
   "cell_type": "code",
   "execution_count": 68,
   "id": "8f7bf9af-8a62-4cd2-9ffa-6b59fc3a2e77",
   "metadata": {},
   "outputs": [
    {
     "data": {
      "text/plain": [
       "<Axes: xlabel='smothed_ctr', ylabel='Count'>"
      ]
     },
     "execution_count": 68,
     "metadata": {},
     "output_type": "execute_result"
    },
    {
     "data": {
      "image/png": "[encoded data removed]",
      "text/plain": [
       "<Figure size 432x288 with 1 Axes>"
      ]
     },
     "metadata": {
      "needs_background": "light"
     },
     "output_type": "display_data"
    }
   ],
   "source": [
    "group2['smothed_ctr'] = df.apply(\n",
    "    lambda x: get_smothed_ctr(x['likes'], x['views'], global_ctr_2, 5), axis=1)\n",
    "\n",
    "sns.histplot(group2.smothed_ctr, \n",
    "             kde = False)"
   ]
  },
  {
   "cell_type": "code",
   "execution_count": 69,
   "id": "24e817be-8af7-4b8f-a6d1-bade65525184",
   "metadata": {},
   "outputs": [
    {
     "data": {
      "text/plain": [
       "Ttest_indResult(statistic=1.9460491517027683, pvalue=0.05166679015318526)"
      ]
     },
     "execution_count": 69,
     "metadata": {},
     "output_type": "execute_result"
    }
   ],
   "source": [
    "stats.ttest_ind(group1['smothed_ctr'],\n",
    "                group2['smothed_ctr'],\n",
    "                equal_var=False)"
   ]
  },
  {
   "cell_type": "markdown",
   "id": "aecae8b0-e8e1-4d43-bd38-cada2905e538",
   "metadata": {},
   "source": [
    "На сглаженном CTR Т-тест практически показал значимые различия, но все еще не достаточные для приянтие."
   ]
  },
  {
   "cell_type": "markdown",
   "id": "fff1b533-476c-449c-97f3-60e5e1c6300c",
   "metadata": {},
   "source": [
    "## Пуассоновский бутстреп для анализа разницы в CTR\n",
    "\n",
    "Пуассоновский бутстреп — это метод оценки статистической значимости, особенно полезный при работе с метриками, зависящими от пользовательской активности, такими как **CTR (Click-through Rate)**.\n",
    "\n",
    "Он позволяет учитывать **разную степень вклада каждого пользователя** в общую метрику и снижает влияние шума от малоданных пользователей.\n",
    "\n",
    "---\n",
    "\n",
    "### Как работает алгоритм:\n",
    "\n",
    "#### Шаг 1: Подготовка данных\n",
    "- У нас есть две группы: **A (control)** и **B (treatment)**.\n",
    "- Для каждого пользователя известны:\n",
    "  - `views` — количество просмотров\n",
    "  - `clicks` — количество лайков\n",
    "\n",
    "---\n",
    "\n",
    "#### Шаг 2: Генерация псевдовыборок\n",
    "\n",
    "Для каждой итерации бутстрепа:\n",
    "\n",
    "1. **Группа A**\n",
    "   - Генерируем веса `weights_1` для каждого пользователя из распределения **Пуассона(λ=1)**.\n",
    "     Это означает, что каждый пользователь случайным образом \"входит\" в псевдовыборку несколько раз (или не входит совсем).\n",
    "   - Считаем \"глобальный CTR\" для псевдовыборки группы A:\n",
    "\n",
    "   $$\n",
    "   \\text{global\\_CTR}_A = \\frac{\\sum(\\text{clicks}_A \\cdot \\text{weights}_1)}{\\sum(\\text{views}_A \\cdot \\text{weights}_1)}\n",
    "   $$\n",
    "\n",
    "2. **Группа B**\n",
    "   - Аналогично генерируем веса `weights_2` для пользователей из группы B.\n",
    "   - Считаем \"глобальный CTR\" для псевдовыборки группы B:\n",
    "\n",
    "   $$\n",
    "   \\text{global\\_CTR}_B = \\frac{\\sum(\\text{clicks}_B \\cdot \\text{weights}_2)}{\\sum(\\text{views}_B \\cdot \\text{weights}_2)}\n",
    "   $$\n",
    "\n",
    "3. **Считаем разницу между группами:**\n",
    "\n",
    "   $$\n",
    "   \\text{diff} = \\text{global\\_CTR}_A - \\text{global\\_CTR}_B\n",
    "   $$\n",
    "\n",
    "   Эту разницу сохраняем в список результатов.\n",
    "\n",
    "---\n",
    "\n",
    "### Шаг 3: Повторение\n",
    "\n",
    "Повторяем шаги 2–3 **многократно** (например, **2000 раз**) для построения **распределения разницы CTR между группами**.\n",
    "\n",
    "---\n",
    "\n",
    "### Что мы получаем на выходе?\n",
    "\n",
    "После всех итераций у нас будет **эмпирическое распределение разницы CTR** между группами. На основе этого распределения можно:\n",
    "\n",
    "- Оценить **среднюю разницу**\n",
    "- Найти **доверительный интервал**\n",
    "- Определить, является ли разница **статистически значимой**\n",
    "\n",
    "---\n",
    "\n",
    "### Преимущества пуассоновского бутстрепа:\n",
    "\n",
    "- Учитывает **индивидуальные особенности пользователей** (их просмотры и клики).\n",
    "- Не предполагает нормальность исходных данных.\n",
    "- Хорошо работает с **метриками, зависящими от числа событий** (например, CTR, CR и т.д.).\n",
    "\n",
    "---\n",
    "\n",
    "### Почему именно Пуассон?\n",
    "\n",
    "Распределение Пуассона с λ=1 идеально подходит для бутстрепа:\n",
    "- Каждый пользователь может быть взят **0, 1, 2 и более раз**.\n",
    "- Это имитирует **случайную выборку** и сохраняет естественную вариацию в данных.\n",
    "- Такой подход сохраняет **взвешенность** и корректно учитывает повторные включения.\n",
    "\n",
    "---"
   ]
  },
  {
   "cell_type": "code",
   "execution_count": 47,
   "id": "b1af7447-dfde-495f-b0c4-237f7015b18d",
   "metadata": {},
   "outputs": [
    {
     "data": {
      "text/plain": [
       "<Axes: ylabel='Count'>"
      ]
     },
     "execution_count": 47,
     "metadata": {},
     "output_type": "execute_result"
    },
    {
     "data": {
      "image/png": "[encoded data removed]",
      "text/plain": [
       "<Figure size 432x288 with 1 Axes>"
      ]
     },
     "metadata": {
      "needs_background": "light"
     },
     "output_type": "display_data"
    }
   ],
   "source": [
    "def bootstrap(likes1, views1, likes2, views2, n_bootstrap=2000):\n",
    "\n",
    "    poisson_bootstraps1 = stats.poisson(1).rvs(\n",
    "        (n_bootstrap, len(likes1))).astype(np.int64)\n",
    "\n",
    "    poisson_bootstraps2 = stats.poisson(1).rvs(\n",
    "            (n_bootstrap, len(likes2))).astype(np.int64)\n",
    "    \n",
    "    globalCTR1 = (poisson_bootstraps1*likes1).sum(axis=1)/(poisson_bootstraps1*views1).sum(axis=1)\n",
    "    \n",
    "    globalCTR2 = (poisson_bootstraps2*likes2).sum(axis=1)/(poisson_bootstraps2*views2).sum(axis=1)\n",
    "\n",
    "    return globalCTR1, globalCTR2\n",
    "\n",
    "connection = {\n",
    "    'host': 'https://clickhouse.lab.karpov.courses',\n",
    "    'password': 'dpo_python_2020',\n",
    "    'user': 'student',\n",
    "    'database': 'simulator_20250520'\n",
    "}\n",
    "\n",
    "q = \"\"\"\n",
    "SELECT exp_group, \n",
    "    user_id,\n",
    "    sum(action = 'like') as likes,\n",
    "    sum(action = 'view') as views,\n",
    "    likes/views as ctr\n",
    "FROM {db}.feed_actions \n",
    "WHERE toDate(time) between '2025-05-02' and '2025-05-08'\n",
    "    and exp_group in (1,2)\n",
    "GROUP BY exp_group, user_id\n",
    "\"\"\"\n",
    "\n",
    "\n",
    "df = ph.read_clickhouse(q, connection=connection)\n",
    "\n",
    "likes1 = df[df.exp_group == 1].likes.to_numpy()\n",
    "views1 = df[df.exp_group == 1].views.to_numpy()\n",
    "likes2 = df[df.exp_group == 2].likes.to_numpy()\n",
    "views2 = df[df.exp_group == 2].views.to_numpy()\n",
    "\n",
    "ctr1, ctr2 = bootstrap(likes1, views1, likes2, views2)\n",
    "\n",
    "sns.histplot(ctr1)\n",
    "sns.histplot(ctr2)"
   ]
  },
  {
   "cell_type": "code",
   "execution_count": 48,
   "id": "9a9ba1f3-bc4c-43a3-994b-04a0976974ab",
   "metadata": {},
   "outputs": [
    {
     "data": {
      "text/plain": [
       "<Axes: ylabel='Count'>"
      ]
     },
     "execution_count": 48,
     "metadata": {},
     "output_type": "execute_result"
    },
    {
     "data": {
      "image/png": "[encoded data removed]",
      "text/plain": [
       "<Figure size 432x288 with 1 Axes>"
      ]
     },
     "metadata": {
      "needs_background": "light"
     },
     "output_type": "display_data"
    }
   ],
   "source": [
    "#Разница между глобальными CTR\n",
    "\n",
    "sns.histplot(ctr2 - ctr1)"
   ]
  },
  {
   "cell_type": "code",
   "execution_count": null,
   "id": "269d8d5e-d8b9-4fb2-89f0-d7ef342d6ce5",
   "metadata": {},
   "outputs": [],
   "source": [
    "#значения отрицательны, т.е контроль больше таргета"
   ]
  },
  {
   "cell_type": "markdown",
   "id": "5cfb3f3b-dbed-4c37-90f2-4f0b5205d19f",
   "metadata": {},
   "source": [
    "## Бакетное преобразование: как и зачем его использовать\n",
    "\n",
    "Бакетное преобразование — популярный метод анализа данных в A/B-тестировании. Оно помогает уменьшить влияние шума и повысить стабильность статистических тестов, особенно когда данные имеют сильные выбросы или неравномерное распределение.\n",
    "\n",
    "---\n",
    "\n",
    "### Основная идея\n",
    "\n",
    "1. **Разделение пользователей на бакеты**\n",
    "   - Все пользователи равномерно разбиваются на **N бакетов** (обычно 50 или 100).\n",
    "   - Каждый пользователь попадает **только в один бакет**.\n",
    "   - Разбиение проводится с помощью **солёного хэширования**, чтобы обеспечить **случайность и воспроизводимость**.\n",
    "\n",
    "2. **Агрегация метрик по бакетам**\n",
    "   - В каждом бакете рассчитывается агрегированная метрика (например, средний CTR, медиана просмотров и т.д.).\n",
    "   - Таким образом, каждый бакет становится своего рода **«метапользователем»**.\n",
    "\n",
    "3. **Анализ по бакетам**\n",
    "   - Вместо анализа по отдельным пользователям мы работаем с агрегированными значениями по бакетам.\n",
    "   - Например, при 50 бакетах получаем **по 50 значений** на группу, и уже их сравниваем.\n",
    "\n",
    "---\n",
    "\n",
    "### Пример\n",
    "\n",
    "> Допустим, у нас есть 100 000 пользователей в группе A и столько же в группе B.  \n",
    "> Мы делим их по 2000 пользователей на бакет — получаем по **50 бакетов** на группу.  \n",
    "> В каждом бакете считаем **средний CTR**.  \n",
    "> Теперь у нас есть две выборки по 50 числам, и мы можем применить к ним **t-тест** или **тест Манна-Уитни**.\n",
    "\n",
    "---\n",
    "\n",
    "### 📌 Почему это работает?\n",
    "\n",
    "Бакетное преобразование напоминает **непараметрический бутстреп**, но делает это **без генерации новых данных**, а на основе уже имеющихся.\n",
    "\n",
    "- Каждый бакет — это **срез данных**, который отражает поведение части пользователей.\n",
    "- Агрегация по бакетам **снижает дисперсию** и делает распределение более нормальным.\n",
    "- Это улучшает работу классических тестов, таких как **t-тест**, и снижает вероятность ложных срабатываний.\n",
    "\n",
    "---\n",
    "\n",
    "### 🧠 Преимущества бакетного преобразования\n",
    "\n",
    "- **Уменьшение влияния выбросов** — за счёт агрегации.\n",
    "- **Стабильность метрик** — бакеты делают распределение более нормальным.\n",
    "- **Воспроизводимость** — можно использовать одинаковую систему сплитования для разных тестов.\n",
    "- **Гибкость** — можно считать не только среднее, но и медиану, дисперсию, квантили и т.д.\n",
    "\n",
    "---\n",
    "\n",
    "### 🧪 Как применить на практике\n",
    "\n",
    "1. Разбей пользователей на **N бакетов** (например, 50).\n",
    "2. Для каждого бакета посчитай нужную метрику (например, средний CTR).\n",
    "3. Примени статистический тест:\n",
    "   - `t-тест`, если распределение близко к нормальному.\n",
    "   - `тест Манна-Уитни`, если распределение сильно скошено или содержит выбросы.\n",
    "\n",
    "---\n",
    "\n",
    "### ✅ Пример вывода\n",
    "\n",
    "> Бакетное преобразование позволяет снизить влияние шума и выбросов на результаты A/B-теста.  \n",
    "> Мы разбиваем пользователей на 50 бакетов, считаем средний CTR по каждому и проводим сравнение между группами.  \n",
    "> Такой подход делает тестирование более устойчивым и позволяет использовать классические тесты, даже если исходные данные далеки от нормальности.\n",
    "\n",
    "---\n",
    "\n",
    "### 💡 Советы по реализации\n",
    "\n",
    "- Используй `xxHash64(user_id || 'salt') % N` для равномерного разбиения.\n",
    "- Проверь, чтобы пользователи были распределены **равномерно** по бакетам.\n",
    "- Для анализа используй среднее или медиану CTR по бакетам.\n",
    "- Поверх бакетов можно запускать **t-тест** или **Манна-Уитни**.\n",
    "\n",
    "---\n",
    "\n",
    "### 🧮 Пример кода (ClickHouse)\n",
    "\n",
    "```sql\n",
    "-- Пример разбиения на 50 бакетов\n",
    "SELECT \n",
    "    xxHash64(toString(user_id) || 'my_salt') % 50 AS bucket,\n",
    "    AVG(clicks / views) AS avg_ctr\n",
    "FROM dataset\n",
    "WHERE group = 'A'\n",
    "GROUP BY bucket"
   ]
  },
  {
   "cell_type": "code",
   "execution_count": 50,
   "id": "30b8cbee-a6b8-448a-b966-56ea15878152",
   "metadata": {},
   "outputs": [
    {
     "data": {
      "text/plain": [
       "MannwhitneyuResult(statistic=1997.0, pvalue=2.6576427804010095e-07)"
      ]
     },
     "execution_count": 50,
     "metadata": {},
     "output_type": "execute_result"
    }
   ],
   "source": [
    "q = \"\"\"\n",
    "\n",
    "SELECT exp_group, bucket,\n",
    "    sum(likes)/sum(views) as bucket_ctr,\n",
    "    quantileExact(0.9)(ctr) as ctr9\n",
    "FROM (SELECT exp_group, \n",
    "        xxHash64(user_id)%50 as bucket,\n",
    "        user_id,\n",
    "        sum(action = 'like') as likes,\n",
    "        sum(action = 'view') as views,\n",
    "        likes/views as ctr\n",
    "    FROM {db}.feed_actions \n",
    "    WHERE toDate(time) between '2025-05-02' and '2025-05-08'\n",
    "        and exp_group in (1,2)\n",
    "    GROUP BY exp_group, bucket, user_id)\n",
    "GROUP BY exp_group, bucket\n",
    "\"\"\"\n",
    "\n",
    "df = ph.read_clickhouse(q, connection=connection)\n",
    "\n",
    "#тест Манна-Уитни видит отличие\n",
    "stats.mannwhitneyu(df[df.exp_group == 1].bucket_ctr, \n",
    "                   df[df.exp_group == 2].bucket_ctr, \n",
    "                   alternative = 'two-sided')"
   ]
  },
  {
   "cell_type": "code",
   "execution_count": 51,
   "id": "4bba637c-44fe-463d-af9c-bb5c3fa432af",
   "metadata": {},
   "outputs": [
    {
     "data": {
      "text/plain": [
       "<Axes: xlabel='bucket_ctr', ylabel='Count'>"
      ]
     },
     "execution_count": 51,
     "metadata": {},
     "output_type": "execute_result"
    },
    {
     "data": {
      "image/png": "[encoded data removed]",
      "text/plain": [
       "<Figure size 432x288 with 1 Axes>"
      ]
     },
     "metadata": {
      "needs_background": "light"
     },
     "output_type": "display_data"
    }
   ],
   "source": [
    "sns.histplot(df[df.exp_group == 1].bucket_ctr)"
   ]
  },
  {
   "cell_type": "code",
   "execution_count": 52,
   "id": "d4e13dc8-3ba6-4ad9-b68e-c6e4cd78a3f8",
   "metadata": {},
   "outputs": [
    {
     "data": {
      "text/plain": [
       "<Axes: xlabel='bucket_ctr', ylabel='Count'>"
      ]
     },
     "execution_count": 52,
     "metadata": {},
     "output_type": "execute_result"
    },
    {
     "data": {
      "image/png": "[encoded data removed]",
      "text/plain": [
       "<Figure size 432x288 with 1 Axes>"
      ]
     },
     "metadata": {
      "needs_background": "light"
     },
     "output_type": "display_data"
    }
   ],
   "source": [
    "sns.histplot(df[df.exp_group == 2].bucket_ctr)"
   ]
  },
  {
   "cell_type": "code",
   "execution_count": 72,
   "id": "f37b64ac-f6a6-4efa-82da-6056c66c2357",
   "metadata": {},
   "outputs": [],
   "source": [
    "#Ответ очевиден, не будем вводить новые алгоритм\n"
   ]
  }
 ],
 "metadata": {
  "kernelspec": {
   "display_name": "Python 3 (ipykernel)",
   "language": "python",
   "name": "python3"
  },
  "language_info": {
   "codemirror_mode": {
    "name": "ipython",
    "version": 3
   },
   "file_extension": ".py",
   "mimetype": "text/x-python",
   "name": "python",
   "nbconvert_exporter": "python",
   "pygments_lexer": "ipython3",
   "version": "3.8.10"
  }
 },
 "nbformat": 4,
 "nbformat_minor": 5
}
